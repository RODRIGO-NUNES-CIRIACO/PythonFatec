{
 "cells": [
  {
   "cell_type": "markdown",
   "id": "91a9287f",
   "metadata": {},
   "source": [
    "# COISAS IMPORTANTES\n"
   ]
  },
  {
   "cell_type": "markdown",
   "id": "0e9e1c72",
   "metadata": {},
   "source": [
    "o código fonte deve ser rigorozamente seguido.\n",
    "\n",
    "e.g\n",
    "\n",
    "* 1 Respeite as indentações(espaços)\n",
    "NÃO FAÇA ISSO :))\n",
    "eu bola gosto bater mim portão\n",
    "\n",
    "int main(){\n",
    "    sdfhfksd\n",
    "     sdfhfksdfdfd;\n",
    "}\n",
    "\n",
    "* 2 Não adicione espaços na funçoes e nos objetos\n",
    "correto:\n",
    "print(1)\n",
    "\n",
    "errado:\n",
    "print (1)\n",
    "print( 1 )\n",
    "\n",
    "* 3 Contudo, adicione espaços entre as variáveis e valores, e entre valores e valores\n",
    "correto:\n",
    "variavel = 4\n",
    "3 + 3\n",
    "\n",
    "errado:\n",
    "variavel=4\n",
    "3+3"
   ]
  },
  {
   "cell_type": "markdown",
   "id": "2e96511b",
   "metadata": {},
   "source": [
    "# DRY"
   ]
  },
  {
   "cell_type": "code",
   "execution_count": 2,
   "id": "680b2d01",
   "metadata": {},
   "outputs": [
    {
     "name": "stdout",
     "output_type": "stream",
     "text": [
      "Olá estranho, seja bem-vindo\n",
      "Selecionar as opções abaixo:\n",
      "[1] - Café\n",
      "[2] - Cappucino\n",
      "[3] - Macchiato\n",
      "[4] - Espresso\n",
      "[5] - Chá\n",
      ">>> 5\n"
     ]
    }
   ],
   "source": [
    "# Do not repeat yourself (Evite repetiçoes)\n",
    "\n",
    "print(\"Olá estranho, seja bem-vindo\")\n",
    "print(\"Selecionar as opções abaixo:\")\n",
    "print(\"[1] - Café\")\n",
    "print(\"[2] - Cappucino\")\n",
    "print(\"[3] - Macchiato\")\n",
    "print(\"[4] - Espresso\")\n",
    "print(\"[5] - Chá\")\n",
    "opcao = input(\">>> \")"
   ]
  },
  {
   "cell_type": "code",
   "execution_count": 5,
   "id": "eca94023",
   "metadata": {},
   "outputs": [
    {
     "name": "stdout",
     "output_type": "stream",
     "text": [
      "5\n"
     ]
    }
   ],
   "source": [
    "print(opcao)"
   ]
  },
  {
   "cell_type": "markdown",
   "id": "6043ea2b",
   "metadata": {},
   "source": [
    "# LAÇO DE REPETIÇÃO\n"
   ]
  },
  {
   "cell_type": "code",
   "execution_count": 6,
   "id": "4e05a910",
   "metadata": {},
   "outputs": [
    {
     "name": "stdout",
     "output_type": "stream",
     "text": [
      "=^^=\n",
      "=^^=\n",
      "=^^=\n",
      "=^^=\n",
      "=^^=\n",
      "=^^=\n",
      "=^^=\n",
      "=^^=\n",
      "=^^=\n",
      "=^^=\n"
     ]
    }
   ],
   "source": [
    "# jeito cavalo\n",
    "print(\"=^^=\")\n",
    "print(\"=^^=\")\n",
    "print(\"=^^=\")\n",
    "print(\"=^^=\")\n",
    "print(\"=^^=\")\n",
    "print(\"=^^=\")\n",
    "print(\"=^^=\")\n",
    "print(\"=^^=\")\n",
    "print(\"=^^=\")\n",
    "print(\"=^^=\")\n"
   ]
  },
  {
   "cell_type": "markdown",
   "id": "0f6888f7",
   "metadata": {},
   "source": [
    "# ESTRUTURA DE REPETIÇÃO FOR\n",
    "\n",
    "**for** *variavel* **int** *ITERÁVEL*"
   ]
  },
  {
   "cell_type": "markdown",
   "id": "f33db331",
   "metadata": {},
   "source": [
    "O **for** traduzido para o português fica:\n",
    "\n",
    "\"**Para cada elemento** (for) dentro do *ITERÁVEL* salve\n",
    "temporariamente o valor contido no *ITERÁVEL* na 'variavel'\"\n",
    "\n",
    "\"Execute o código abaixo o mesmo tanto de vezes que o tamanho do\n",
    "ITERÁVEL\""
   ]
  },
  {
   "cell_type": "code",
   "execution_count": 7,
   "id": "679aa698",
   "metadata": {},
   "outputs": [],
   "source": [
    "# iteráveis\n",
    "\n",
    "listas = [1, \"texto\", [],] # listas aceitam quaisquer objetos que o python suporta\n",
    "textos = \"O rato roeu a roupa do rei de roma\"\n",
    "tuplas = (1, \"texto\", [],) # tuplas aceitam quaisquer objetos que o python suporta\n",
    "dicionario_de_uma_linha = {\"chave\": \"valor\", \"dog\": \"cachorro\"}\n",
    "dicionario_de_varias_linhas = {\n",
    "    \"chave\": \"valor\", \n",
    "    \"dog\": \"cachorro\"\n",
    "}\n",
    "alcance_escopo = range(10)\n"
   ]
  },
  {
   "cell_type": "markdown",
   "id": "5e7f2441",
   "metadata": {},
   "source": [
    "# TRABALHANDO OS DADOS\n",
    "\n",
    "* listas \n",
    "* texto (string)\n",
    "* tuplas\n",
    "* dicionarios\n",
    "* range"
   ]
  },
  {
   "cell_type": "code",
   "execution_count": 10,
   "id": "767c7db6",
   "metadata": {},
   "outputs": [
    {
     "name": "stdout",
     "output_type": "stream",
     "text": [
      "=^^=\n",
      "=^^=\n",
      "=^^=\n",
      "=^^=\n",
      "=^^=\n",
      "=^^=\n",
      "=^^=\n",
      "=^^=\n",
      "=^^=\n",
      "=^^=\n"
     ]
    }
   ],
   "source": [
    "for VARIAVEL in range (10):\n",
    "    print(\"=^^=\")"
   ]
  },
  {
   "cell_type": "code",
   "execution_count": 15,
   "id": "a88a3229",
   "metadata": {},
   "outputs": [
    {
     "name": "stdout",
     "output_type": "stream",
     "text": [
      "azeitona\n",
      "chocolate\n",
      "papel higiênico\n",
      "pasta de dentes\n",
      "salgadinho\n",
      "carne moida\n"
     ]
    }
   ],
   "source": [
    "# trabalhando com listas\n",
    "\n",
    "tamanho_minimo = 8\n",
    "compras = [\"arroz\", \"picanha\", \"azeitona\", \"chocolate\", \"batata\", \"sushi\", \"papel higiênico\", \"pasta de dentes\", \"vinho\", \"salgadinho\", \"carne moida\", \"leite\"]\n",
    "for item in compras:\n",
    "    if len(item) < tamanho_minimo:\n",
    "        pass\n",
    "    else:\n",
    "        print(item)\n",
    "    "
   ]
  },
  {
   "cell_type": "code",
   "execution_count": 19,
   "id": "cffcf585",
   "metadata": {},
   "outputs": [
    {
     "name": "stdout",
     "output_type": "stream",
     "text": [
      "Digite um numero: 2\n",
      "PAR\n"
     ]
    }
   ],
   "source": [
    "# DESAFIO 1: Par, Impar\n",
    "\n",
    "\n",
    "# range(51)\n",
    "# 0, par\n",
    "# 1,impar\n",
    "# 19 % 2\n",
    "\n",
    "numero_do_user = int(input(\"Digite um numero: \"))\n",
    "if numero_do_user % 2 == 0:\n",
    "    print(\"PAR\")\n",
    "else:\n",
    "    print(\"IMPAR\")"
   ]
  },
  {
   "cell_type": "code",
   "execution_count": 18,
   "id": "cd4b5bf3",
   "metadata": {},
   "outputs": [
    {
     "name": "stdout",
     "output_type": "stream",
     "text": [
      "0 PAR\n",
      "1 IMPAR\n",
      "2 PAR\n",
      "3 IMPAR\n",
      "4 PAR\n",
      "5 IMPAR\n",
      "6 PAR\n",
      "7 IMPAR\n",
      "8 PAR\n",
      "9 IMPAR\n",
      "10 PAR\n",
      "11 IMPAR\n",
      "12 PAR\n",
      "13 IMPAR\n",
      "14 PAR\n",
      "15 IMPAR\n",
      "16 PAR\n",
      "17 IMPAR\n",
      "18 PAR\n",
      "19 IMPAR\n",
      "20 PAR\n",
      "21 IMPAR\n",
      "22 PAR\n",
      "23 IMPAR\n",
      "24 PAR\n",
      "25 IMPAR\n",
      "26 PAR\n",
      "27 IMPAR\n",
      "28 PAR\n",
      "29 IMPAR\n",
      "30 PAR\n",
      "31 IMPAR\n",
      "32 PAR\n",
      "33 IMPAR\n",
      "34 PAR\n",
      "35 IMPAR\n",
      "36 PAR\n",
      "37 IMPAR\n",
      "38 PAR\n",
      "39 IMPAR\n",
      "40 PAR\n",
      "41 IMPAR\n",
      "42 PAR\n",
      "43 IMPAR\n",
      "44 PAR\n",
      "45 IMPAR\n",
      "46 PAR\n",
      "47 IMPAR\n",
      "48 PAR\n",
      "49 IMPAR\n",
      "50 PAR\n"
     ]
    }
   ],
   "source": [
    "for numero in range(0, 51):\n",
    "    if numero % 2 == 0:\n",
    "        print(numero, \"PAR\")\n",
    "    else:\n",
    "        print(numero, \"IMPAR\")\n",
    "    "
   ]
  },
  {
   "cell_type": "code",
   "execution_count": 23,
   "id": "c5c35dd4",
   "metadata": {},
   "outputs": [
    {
     "name": "stdout",
     "output_type": "stream",
     "text": [
      "1  toranja\n",
      "2 bergamota\n",
      "3 figo\n"
     ]
    }
   ],
   "source": [
    "# fruta in [\"toranja\", \"bergamota\", \"figo\"]\n",
    "#    print(fruta)\n",
    "\n",
    "frutas = [\" toranja\", \"bergamota\", \"figo\"]\n",
    "for posicao, fruta in enumerate(frutas):\n",
    "    print(posicao + 1, fruta)\n",
    "\n"
   ]
  },
  {
   "cell_type": "markdown",
   "id": "64008b12",
   "metadata": {},
   "source": [
    "# CRIANDO UM MENU\n"
   ]
  },
  {
   "cell_type": "code",
   "execution_count": 24,
   "id": "3f650bfb",
   "metadata": {},
   "outputs": [
    {
     "name": "stdout",
     "output_type": "stream",
     "text": [
      "[1] - chá\n",
      "[2] - chocolate\n",
      "[3] - espresso\n",
      "[4] - capuccino\n",
      "[5] - pigando\n"
     ]
    }
   ],
   "source": [
    "# MENU de um restaurante\n",
    "opcoes = [\"chá\", \"chocolate\", \"espresso\", \"capuccino\", \"pigando\"]\n",
    "\n",
    "for posicao, opcao in enumerate(opcoes):\n",
    "    print(f\"[{posicao+1}] - {opcao}\")\n",
    "    \n",
    "pedido = input(\"Selecione uma das opçoes acima: \")\n"
   ]
  }
 ],
 "metadata": {
  "kernelspec": {
   "display_name": "Python 3 (ipykernel)",
   "language": "python",
   "name": "python3"
  },
  "language_info": {
   "codemirror_mode": {
    "name": "ipython",
    "version": 3
   },
   "file_extension": ".py",
   "mimetype": "text/x-python",
   "name": "python",
   "nbconvert_exporter": "python",
   "pygments_lexer": "ipython3",
   "version": "3.9.6"
  }
 },
 "nbformat": 4,
 "nbformat_minor": 5
}
