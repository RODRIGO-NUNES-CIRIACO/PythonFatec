{
 "cells": [
  {
   "cell_type": "markdown",
   "id": "a0d24c32",
   "metadata": {},
   "source": [
    "# DECORATORS\n",
    "\n",
    "* O que são decorators?\n",
    "* Como aplicar decorators?\n",
    "* Decorator como classe\n",
    "* Flask"
   ]
  },
  {
   "cell_type": "markdown",
   "id": "87aeff49",
   "metadata": {},
   "source": [
    " Em nível de função lambda, segue o exemplo:\n",
    " "
   ]
  },
  {
   "cell_type": "code",
   "execution_count": 6,
   "id": "40ab8588",
   "metadata": {},
   "outputs": [
    {
     "name": "stdout",
     "output_type": "stream",
     "text": [
      "Cavalo!!\n"
     ]
    }
   ],
   "source": [
    "# Uma função que retorna outra função\n",
    "pegar_cep = lambda : print\n",
    "pegar_cep()(\"Cavalo!!\") # O pegar_cep() é convertido para print\n"
   ]
  },
  {
   "cell_type": "markdown",
   "id": "508c85a7",
   "metadata": {},
   "source": [
    "### CRIANDO FUNÇÕES"
   ]
  },
  {
   "cell_type": "code",
   "execution_count": 8,
   "id": "effda147",
   "metadata": {},
   "outputs": [],
   "source": [
    "def func():\n",
    "    pass\n"
   ]
  },
  {
   "cell_type": "markdown",
   "id": "1dc7db51",
   "metadata": {},
   "source": [
    "* FUNÇÃO QUE RETORNA VALOR\n"
   ]
  },
  {
   "cell_type": "code",
   "execution_count": 9,
   "id": "560ff533",
   "metadata": {},
   "outputs": [
    {
     "data": {
      "text/plain": [
       "'Valor retornado'"
      ]
     },
     "execution_count": 9,
     "metadata": {},
     "output_type": "execute_result"
    }
   ],
   "source": [
    "def retornar_valor():\n",
    "    return \"Valor retornado\"\n",
    "\n",
    "retornar_valor()"
   ]
  },
  {
   "cell_type": "markdown",
   "id": "cf61fe55",
   "metadata": {},
   "source": [
    "### * Função que recebe e retorna valores\n",
    "    *Função com parâmetros: Função com variável"
   ]
  },
  {
   "cell_type": "code",
   "execution_count": 10,
   "id": "e90312bf",
   "metadata": {},
   "outputs": [
    {
     "name": "stdout",
     "output_type": "stream",
     "text": [
      "Fatec Fatec Fatec \n",
      "6\n"
     ]
    }
   ],
   "source": [
    "def func2(parametro):  # Parâmetro -> variável\n",
    "    return parametro * 3\n",
    "\n",
    "print(func2(\"Fatec \")) # Argumento ->  valor literal\n",
    "print(func2(2))"
   ]
  },
  {
   "cell_type": "code",
   "execution_count": 5,
   "id": "cda41c6c",
   "metadata": {},
   "outputs": [],
   "source": [
    "# crie uma função que quando chamada e passo um valor\n",
    "# inteiro retorme o mesmo -1 (menus um)\n",
    "# se o valor passado for um float trukate 1.2 -> 1\n",
    "# se o valor passado passado for texto retorne :)"
   ]
  },
  {
   "cell_type": "code",
   "execution_count": 16,
   "id": "40c092fc",
   "metadata": {},
   "outputs": [
    {
     "data": {
      "text/plain": [
       "':)'"
      ]
     },
     "execution_count": 16,
     "metadata": {},
     "output_type": "execute_result"
    }
   ],
   "source": [
    "def fatec(parametro):\n",
    "    if type(parametro) == int:\n",
    "        return parametro -1\n",
    "    elif type(parametro) == float:\n",
    "        return int (parametro) # round(parametro)\n",
    "    else:\n",
    "        return \":)\"\n",
    "        \n",
    "fatec('')"
   ]
  },
  {
   "cell_type": "code",
   "execution_count": 17,
   "id": "f0d3ace6",
   "metadata": {},
   "outputs": [],
   "source": [
    "# crie uma função que retorne 3 valores aletórios"
   ]
  },
  {
   "cell_type": "code",
   "execution_count": 21,
   "id": "0d72ed9b",
   "metadata": {},
   "outputs": [
    {
     "data": {
      "text/plain": [
       "[11, 29, 48, 53, 56, 57]"
      ]
     },
     "execution_count": 21,
     "metadata": {},
     "output_type": "execute_result"
    }
   ],
   "source": [
    "import random\n",
    "def mega_sena():\n",
    "    digitos = []\n",
    "    for i in range(6):\n",
    "        digitos.append(random.randint(1, 60))\n",
    "    digitos.sort()\n",
    "    return digitos\n",
    "\n",
    "mega_sena()"
   ]
  }
 ],
 "metadata": {
  "kernelspec": {
   "display_name": "Python 3 (ipykernel)",
   "language": "python",
   "name": "python3"
  },
  "language_info": {
   "codemirror_mode": {
    "name": "ipython",
    "version": 3
   },
   "file_extension": ".py",
   "mimetype": "text/x-python",
   "name": "python",
   "nbconvert_exporter": "python",
   "pygments_lexer": "ipython3",
   "version": "3.9.6"
  }
 },
 "nbformat": 4,
 "nbformat_minor": 5
}
